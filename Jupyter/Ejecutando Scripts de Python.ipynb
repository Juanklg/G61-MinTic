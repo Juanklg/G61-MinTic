{
 "cells": [
  {
   "cell_type": "markdown",
   "id": "a4a10f68",
   "metadata": {},
   "source": [
    "## Clonar el repositorio"
   ]
  },
  {
   "cell_type": "markdown",
   "id": "e529d1db",
   "metadata": {},
   "source": [
    "Desde Github vamos a clonar un reposiotio creado para los scripts o codigos del curso.\n",
    "\n",
    "Rutas de repositorios\n",
    "- https://github.com/Juanklg/G29-MinTic.git\n",
    "- https://github.com/Juanklg/Mintic-G48.git\n",
    "- https://github.com/Juanklg/G61-MinTic.git\n",
    "\n",
    "Para clonar un repositorio nos ubicamos en el terminal de visula stuido code\n",
    "\n"
   ]
  },
  {
   "cell_type": "markdown",
   "id": "6f252b69",
   "metadata": {},
   "source": []
  },
  {
   "cell_type": "markdown",
   "id": "293e78c4",
   "metadata": {},
   "source": [
    "Una vez ubicados en la ruta donde se va a descargarla carpeta ejecutamos el comando \n",
    "\n",
    "#### git clone con la ruta del repositorio del respectivo grupo"
   ]
  },
  {
   "cell_type": "markdown",
   "id": "49c6d484",
   "metadata": {},
   "source": []
  },
  {
   "cell_type": "markdown",
   "id": "f22c783a",
   "metadata": {},
   "source": [
    "Esperamos aque se complete la descarga y verificamos que la carpeta se agregre a nuestro espacio de trabajo"
   ]
  },
  {
   "cell_type": "markdown",
   "id": "511ebbb9",
   "metadata": {},
   "source": []
  },
  {
   "cell_type": "markdown",
   "id": "6b39855c",
   "metadata": {},
   "source": [
    "## Abrir la carpeta de scripts en la terminal"
   ]
  },
  {
   "cell_type": "markdown",
   "id": "c95989e5",
   "metadata": {},
   "source": [
    "Ubicamos la carpeta en el panel izquierdo y damos click derecho y sleccionamos la opcion n°4\n",
    "-Open in integrate terminal o Abrir en terminal integrado"
   ]
  },
  {
   "cell_type": "markdown",
   "id": "7d58e3b8",
   "metadata": {},
   "source": []
  },
  {
   "cell_type": "markdown",
   "id": "4538c35b",
   "metadata": {},
   "source": [
    "## Ejecutar un Script de la carpeta de apoyo"
   ]
  },
  {
   "cell_type": "markdown",
   "id": "3d0334b8",
   "metadata": {},
   "source": [
    "Manejamos 2 carpetas con la informacion que hemos trabajado\n",
    "\n",
    "- Actividades : Tenemos los ejercicios que realizamos en clase\n",
    "- ParaDoc : E esta tenemos los scripts q vamos a documentar en jupyter notebook"
   ]
  },
  {
   "cell_type": "markdown",
   "id": "63a1bbdd",
   "metadata": {},
   "source": []
  },
  {
   "cell_type": "markdown",
   "id": "f9c3b557",
   "metadata": {},
   "source": [
    "Para ejercutar un script tenemos 2 opciones\n",
    "\n",
    "1- ingresar a la carpeta con cd y darle ls y ejecuatr el script que queremos"
   ]
  },
  {
   "cell_type": "markdown",
   "id": "f0c19d6a",
   "metadata": {},
   "source": []
  },
  {
   "cell_type": "markdown",
   "id": "6c537f72",
   "metadata": {},
   "source": [
    "2- desde la ruta de scripts ejecutar el script teniendo en cuenta la ruta del archivo"
   ]
  },
  {
   "cell_type": "markdown",
   "id": "0dd4b5d4",
   "metadata": {},
   "source": []
  }
 ],
 "metadata": {
  "kernelspec": {
   "display_name": "Python 3 (ipykernel)",
   "language": "python",
   "name": "python3"
  },
  "language_info": {
   "codemirror_mode": {
    "name": "ipython",
    "version": 3
   },
   "file_extension": ".py",
   "mimetype": "text/x-python",
   "name": "python",
   "nbconvert_exporter": "python",
   "pygments_lexer": "ipython3",
   "version": "3.9.6"
  }
 },
 "nbformat": 4,
 "nbformat_minor": 5
}
