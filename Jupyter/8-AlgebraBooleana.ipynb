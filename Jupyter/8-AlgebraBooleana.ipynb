{
 "cells": [
  {
   "cell_type": "markdown",
   "source": [
    "### Algebra Booleana"
   ],
   "metadata": {}
  },
  {
   "cell_type": "code",
   "execution_count": 1,
   "source": [
    "A=True\r\n",
    "B=True\r\n",
    "print(f\"Conjuncion = {A and B}\")\r\n",
    "print(f\"Disyuncion = {A or B}\")"
   ],
   "outputs": [],
   "metadata": {}
  },
  {
   "cell_type": "code",
   "execution_count": 2,
   "source": [
    "A=True\r\n",
    "B=False\r\n",
    "print(f\"Conjuncion = {A and B}\")\r\n",
    "print(f\"Disyuncion = {A or B}\")"
   ],
   "outputs": [],
   "metadata": {}
  },
  {
   "cell_type": "code",
   "execution_count": 3,
   "source": [
    "A=False\r\n",
    "B=True\r\n",
    "print(f\"Conjuncion = {A and B}\")\r\n",
    "print(f\"Disyuncion = {A or B}\")"
   ],
   "outputs": [],
   "metadata": {}
  },
  {
   "cell_type": "code",
   "execution_count": 4,
   "source": [
    "A=False\r\n",
    "B=False\r\n",
    "print(f\"Conjuncion = {A and B}\")\r\n",
    "print(f\"Disyuncion = {A or B}\")"
   ],
   "outputs": [],
   "metadata": {}
  },
  {
   "cell_type": "markdown",
   "source": [
    "## Leyes Fundamentales\r\n",
    "\r\n",
    "#### Conmutatividad"
   ],
   "metadata": {}
  },
  {
   "cell_type": "code",
   "execution_count": 5,
   "source": [
    "A=True\r\n",
    "B=False\r\n",
    "print(A or B)\r\n",
    "print(B or A)"
   ],
   "outputs": [],
   "metadata": {}
  },
  {
   "cell_type": "code",
   "execution_count": 6,
   "source": [
    "A=True\r\n",
    "B=False\r\n",
    "print(A and B)\r\n",
    "print(B and A)"
   ],
   "outputs": [],
   "metadata": {}
  },
  {
   "cell_type": "markdown",
   "source": [
    "#### Asociatividad"
   ],
   "metadata": {}
  },
  {
   "cell_type": "code",
   "execution_count": 7,
   "source": [
    "A=True\r\n",
    "B=False\r\n",
    "C=True\r\n",
    "print(A and (B and C))\r\n",
    "print((A and B) and C)\r\n",
    "\r\n",
    "print(A or (B or C))\r\n",
    "print((A or B) or C)\r\n"
   ],
   "outputs": [],
   "metadata": {}
  },
  {
   "cell_type": "markdown",
   "source": [
    "#### Distribucion"
   ],
   "metadata": {}
  },
  {
   "cell_type": "code",
   "execution_count": 8,
   "source": [
    "A=True\r\n",
    "B=False\r\n",
    "C=True\r\n",
    "print(A and (B or C))\r\n",
    "print((A and B) or (A and C))"
   ],
   "outputs": [],
   "metadata": {}
  },
  {
   "cell_type": "code",
   "execution_count": 9,
   "source": [
    "A=True\r\n",
    "B=False\r\n",
    "C=True\r\n",
    "print(A or (B and C))\r\n",
    "print((A or B) and (A or C))"
   ],
   "outputs": [],
   "metadata": {}
  },
  {
   "cell_type": "markdown",
   "source": [
    "#### Identidad de conjuncion"
   ],
   "metadata": {}
  },
  {
   "cell_type": "code",
   "execution_count": 31,
   "source": [
    "A=True\r\n",
    "print(A and True)\r\n",
    "A=False\r\n",
    "print(A and True)"
   ],
   "outputs": [
    {
     "output_type": "stream",
     "name": "stdout",
     "text": [
      "True\n",
      "False\n"
     ]
    }
   ],
   "metadata": {}
  },
  {
   "cell_type": "markdown",
   "source": [
    "#### Identidad de disyuncion"
   ],
   "metadata": {}
  },
  {
   "cell_type": "code",
   "execution_count": 11,
   "source": [
    "A=True\r\n",
    "print(A or False)\r\n",
    "A=False\r\n",
    "print(A or False)"
   ],
   "outputs": [],
   "metadata": {}
  },
  {
   "cell_type": "markdown",
   "source": [
    "#### Dominacion de la conjuncion"
   ],
   "metadata": {}
  },
  {
   "cell_type": "code",
   "execution_count": 12,
   "source": [
    "A=True\r\n",
    "print(A and False)\r\n",
    "A=False\r\n",
    "print(A and False)"
   ],
   "outputs": [],
   "metadata": {}
  },
  {
   "cell_type": "markdown",
   "source": [
    "#### Dominacion de la disyuncion"
   ],
   "metadata": {}
  },
  {
   "cell_type": "code",
   "execution_count": 13,
   "source": [
    "A=True\r\n",
    "print(A or True)\r\n",
    "A=False\r\n",
    "print(A or True)"
   ],
   "outputs": [],
   "metadata": {}
  },
  {
   "cell_type": "markdown",
   "source": [
    "#### Negacion y equivalente a falso"
   ],
   "metadata": {}
  },
  {
   "cell_type": "markdown",
   "source": [
    "A es equivalente a decir A=True\r\n",
    "\r\n",
    "¬A o A' es equivalente a decir A=False"
   ],
   "metadata": {}
  },
  {
   "cell_type": "markdown",
   "source": [
    "#### Ley de Morgan"
   ],
   "metadata": {}
  },
  {
   "cell_type": "code",
   "execution_count": 14,
   "source": [
    "P=True\r\n",
    "Q=False\r\n",
    "print(not (P and Q))\r\n",
    "print(not P or not Q)"
   ],
   "outputs": [],
   "metadata": {}
  },
  {
   "cell_type": "code",
   "execution_count": 15,
   "source": [
    "P=True\r\n",
    "Q=False\r\n",
    "print(not (P or Q))\r\n",
    "print(not P and not Q)"
   ],
   "outputs": [],
   "metadata": {}
  },
  {
   "cell_type": "markdown",
   "source": [
    "### Ejemplos"
   ],
   "metadata": {}
  },
  {
   "cell_type": "code",
   "execution_count": 2,
   "source": [
    "#variables numericas y input(los input's siempre seran de type 'str')\r\n",
    "x = int(input(\"Ingrese x : \"))"
   ],
   "outputs": [
    {
     "output_type": "stream",
     "name": "stdout",
     "text": [
      "Ingrese x : 5\n"
     ]
    }
   ],
   "metadata": {}
  },
  {
   "cell_type": "code",
   "execution_count": 3,
   "source": [
    "#variables numericas y input(los input's siempre seran de type 'str')\r\n",
    "y = int(input(\"Ingrese y : \"))"
   ],
   "outputs": [
    {
     "output_type": "stream",
     "name": "stdout",
     "text": [
      "Ingrese y : 6\n"
     ]
    }
   ],
   "metadata": {}
  },
  {
   "cell_type": "code",
   "execution_count": 19,
   "source": [
    "print(\"x es de tipo = \",type(x))\r\n",
    "print(\"y es de tipo = \",type(y))"
   ],
   "outputs": [
    {
     "output_type": "stream",
     "name": "stdout",
     "text": [
      "x es de tipo =  <class 'int'>\n",
      "y es de tipo =  <class 'int'>\n"
     ]
    }
   ],
   "metadata": {}
  },
  {
   "cell_type": "code",
   "execution_count": 4,
   "source": [
    "#algunas delas comparaciones q nos retornan un valor booleano\r\n",
    "resultado = x == y\r\n",
    "print(f'Resultado == : {resultado}')\r\n",
    "\r\n",
    "resultado = x != y\r\n",
    "print(f'Resultado != : {resultado}')\r\n",
    "\r\n",
    "resultado = x > y\r\n",
    "print(f'Resultado > : {resultado}')\r\n",
    "\r\n",
    "resultado = x >= y\r\n",
    "print(f'Resultado >= : {resultado}')\r\n",
    "\r\n",
    "resultado = x < y\r\n",
    "print(f'Resultado < : {resultado}')\r\n",
    "\r\n",
    "resultado = x <= y\r\n",
    "print(f'Resultado <= : {resultado}')\r\n",
    "\r\n",
    "resultado = x is y\r\n",
    "print(f'Resultado de \"is\" :{resultado}')\r\n",
    "\r\n",
    "resultado = x is not y\r\n",
    "print(f'Resultado de \"is\" :{resultado}')"
   ],
   "outputs": [
    {
     "output_type": "stream",
     "name": "stdout",
     "text": [
      "Resultado == : False\n",
      "Resultado != : True\n",
      "Resultado > : False\n",
      "Resultado >= : False\n",
      "Resultado < : True\n",
      "Resultado <= : True\n",
      "Resultado de \"is\" :False\n",
      "Resultado de \"is\" :True\n"
     ]
    }
   ],
   "metadata": {}
  },
  {
   "cell_type": "code",
   "execution_count": 23,
   "source": [
    "z=9\r\n",
    "resultado = x <= y and x>=z\r\n",
    "print(f'Resultado and : {resultado}')"
   ],
   "outputs": [
    {
     "output_type": "stream",
     "name": "stdout",
     "text": [
      "Resultado and : False\n"
     ]
    }
   ],
   "metadata": {}
  },
  {
   "cell_type": "code",
   "execution_count": 27,
   "source": [
    "n=9\r\n",
    "#si n es multipo de 2 o multiplo de 3\r\n",
    "print(n%2 == 0 or n%3 == 0)"
   ],
   "outputs": [
    {
     "output_type": "stream",
     "name": "stdout",
     "text": [
      "True\n"
     ]
    }
   ],
   "metadata": {}
  },
  {
   "cell_type": "code",
   "execution_count": 28,
   "source": [
    "A=True\r\n",
    "print(not A)"
   ],
   "outputs": [
    {
     "output_type": "stream",
     "name": "stdout",
     "text": [
      "False\n"
     ]
    }
   ],
   "metadata": {}
  },
  {
   "cell_type": "markdown",
   "source": [
    "#### Comparacion con otro tipo de variables"
   ],
   "metadata": {}
  },
  {
   "cell_type": "code",
   "execution_count": 29,
   "source": [
    "def validadorCondicion(any):\r\n",
    "    print(\"Se ingreso a la funcion\",any)\r\n",
    "    condicion = True if any else False \r\n",
    "    return \"La condicion es \"+str(condicion)"
   ],
   "outputs": [],
   "metadata": {}
  },
  {
   "cell_type": "code",
   "execution_count": 30,
   "source": [
    "print(validadorCondicion(\"\" and True))\r\n",
    "print(validadorCondicion(\"A\" and True))\r\n",
    "print(validadorCondicion(0 and True))\r\n",
    "print(validadorCondicion(15 and True))\r\n",
    "print(validadorCondicion(False and True))\r\n",
    "print(validadorCondicion(True and True))"
   ],
   "outputs": [
    {
     "output_type": "stream",
     "name": "stdout",
     "text": [
      "Se ingreso a la funcion \n",
      "La condicion es False\n",
      "Se ingreso a la funcion True\n",
      "La condicion es True\n",
      "Se ingreso a la funcion 0\n",
      "La condicion es False\n",
      "Se ingreso a la funcion True\n",
      "La condicion es True\n",
      "Se ingreso a la funcion False\n",
      "La condicion es False\n",
      "Se ingreso a la funcion True\n",
      "La condicion es True\n"
     ]
    }
   ],
   "metadata": {}
  },
  {
   "cell_type": "code",
   "execution_count": null,
   "source": [],
   "outputs": [],
   "metadata": {}
  }
 ],
 "metadata": {
  "kernelspec": {
   "display_name": "Python 3 (ipykernel)",
   "language": "python",
   "name": "python3"
  },
  "language_info": {
   "codemirror_mode": {
    "name": "ipython",
    "version": 3
   },
   "file_extension": ".py",
   "mimetype": "text/x-python",
   "name": "python",
   "nbconvert_exporter": "python",
   "pygments_lexer": "ipython3",
   "version": "3.9.6"
  }
 },
 "nbformat": 4,
 "nbformat_minor": 5
}